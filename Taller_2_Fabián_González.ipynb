{
  "nbformat": 4,
  "nbformat_minor": 0,
  "metadata": {
    "colab": {
      "provenance": [],
      "collapsed_sections": [
        "fJAAo1mOSFL-",
        "rDrVP7eVY06S"
      ],
      "include_colab_link": true
    },
    "kernelspec": {
      "name": "python3",
      "display_name": "Python 3"
    }
  },
  "cells": [
    {
      "cell_type": "markdown",
      "metadata": {
        "id": "view-in-github",
        "colab_type": "text"
      },
      "source": [
        "<a href=\"https://colab.research.google.com/github/figonrit/Proyectos/blob/main/Taller_2_Fabi%C3%A1n_Gonz%C3%A1lez.ipynb\" target=\"_parent\"><img src=\"https://colab.research.google.com/assets/colab-badge.svg\" alt=\"Open In Colab\"/></a>"
      ]
    },
    {
      "cell_type": "markdown",
      "metadata": {
        "id": "D9uxIwa6gNC0"
      },
      "source": [
        "# Informe 1 Pre-procesamiento\n",
        "# Fabián González Ritchie\n",
        "# Diplomado Advanced Analytics\n",
        "# Universidad de Chile 2021\n",
        "\n",
        "\n"
      ]
    },
    {
      "cell_type": "markdown",
      "metadata": {
        "id": "PCxsJ6Bmccaw"
      },
      "source": [
        "En el siguiente análisis se estudiarán las variables correspondientes a clientes de un banco, los cuales presentan una serie de características, siendo la relevante para esta investigación si se termina fugando o no.\n"
      ]
    },
    {
      "cell_type": "markdown",
      "metadata": {
        "id": "0R8_pkkFefjl"
      },
      "source": [
        "Para partir se descargan las librerias a utilizar:"
      ]
    },
    {
      "cell_type": "code",
      "metadata": {
        "id": "MK4DCMXJ32BB"
      },
      "source": [
        "!pip -q install numpy gensim scikit-learn"
      ],
      "execution_count": null,
      "outputs": []
    },
    {
      "cell_type": "markdown",
      "metadata": {
        "id": "23g4k0OWXdqx"
      },
      "source": [
        "Luego se importan las librerias a trabajar"
      ]
    },
    {
      "cell_type": "code",
      "metadata": {
        "id": "Iw7L8Yn9WNJd",
        "colab": {
          "base_uri": "https://localhost:8080/"
        },
        "outputId": "17ef01d4-83f3-4393-8c6f-21dc4348a9bf"
      },
      "source": [
        "import pandas as pd\n",
        "import numpy as np\n",
        "import pandas.util.testing as tm\n",
        "import matplotlib.pyplot as plt\n",
        "import seaborn as sn\n",
        "\n",
        "from pandas.api.types import is_numeric_dtype\n",
        "from scipy import stats\n",
        "from scipy.stats import chi2_contingency\n",
        "from sklearn import preprocessing\n",
        "from sklearn.preprocessing import MinMaxScaler, KBinsDiscretizer\n",
        "from sklearn.experimental import enable_iterative_imputer\n",
        "from sklearn.impute import IterativeImputer\n",
        "from sklearn.feature_selection import SelectKBest, chi2\n",
        "from sklearn.model_selection import train_test_split\n",
        "\n",
        "#librerias para modelos de clasificacion\n",
        "from sklearn.linear_model import LogisticRegression\n",
        "from sklearn.tree import DecisionTreeClassifier\n",
        "from sklearn import tree\n",
        "from sklearn.neighbors import KNeighborsClassifier, kneighbors_graph\n",
        "from sklearn.ensemble import RandomForestClassifier\n",
        "from sklearn.neural_network import MLPClassifier\n",
        "from sklearn.svm import SVC\n",
        "import statsmodels.api as srm\n",
        "\n",
        "#para graficar el arbol de decision\n",
        "from sklearn.tree import export_graphviz\n",
        "from six import StringIO\n",
        "from IPython.display import Image\n",
        "from pydot import graph_from_dot_data\n",
        "\n",
        "#librerias para la validacion y obtener metricas\n",
        "from sklearn import metrics\n",
        "from sklearn.model_selection import GridSearchCV\n",
        "from sklearn.metrics import make_scorer,roc_curve, auc,r2_score, roc_auc_score, classification_report, confusion_matrix\n",
        "from sklearn.model_selection import cross_validate\n",
        "\n",
        "#guardar modelos entrenados\n",
        "from joblib import dump, load\n",
        "import os\n",
        "\n"
      ],
      "execution_count": null,
      "outputs": [
        {
          "output_type": "stream",
          "name": "stderr",
          "text": [
            "/usr/local/lib/python3.7/dist-packages/ipykernel_launcher.py:3: FutureWarning: pandas.util.testing is deprecated. Use the functions in the public API at pandas.testing instead.\n",
            "  This is separate from the ipykernel package so we can avoid doing imports until\n"
          ]
        }
      ]
    },
    {
      "cell_type": "markdown",
      "metadata": {
        "id": "a_BsjO2Sar9t"
      },
      "source": [
        "Primero se sube un archivo de google drive"
      ]
    },
    {
      "cell_type": "code",
      "metadata": {
        "id": "6X5jb9a1ay3A",
        "colab": {
          "base_uri": "https://localhost:8080/"
        },
        "outputId": "e6b77475-1b20-436e-e15e-9f7752056822"
      },
      "source": [
        "from google.colab import drive\n",
        "drive.mount('/content/gdrive')"
      ],
      "execution_count": null,
      "outputs": [
        {
          "output_type": "stream",
          "name": "stdout",
          "text": [
            "Mounted at /content/gdrive\n"
          ]
        }
      ]
    },
    {
      "cell_type": "markdown",
      "metadata": {
        "id": "oaMOlvv0XiTB"
      },
      "source": [
        "Una vez cargado nuestro drive se carga el archivo a utilizar"
      ]
    },
    {
      "cell_type": "code",
      "metadata": {
        "id": "ZCFgq06dcIIq"
      },
      "source": [
        "ruta_data_set = 'gdrive/My Drive/Colab Notebooks/BASEFUGA2021_F.xls'\n",
        "data_set = pd.read_excel(ruta_data_set)"
      ],
      "execution_count": null,
      "outputs": []
    },
    {
      "cell_type": "markdown",
      "metadata": {
        "id": "cWzjviZg85EJ"
      },
      "source": [
        "Descripcion de variables de la base de datos:\n",
        "\n",
        "1.   ID: identificador del cliente.\n",
        "2.   Genero: Género del cliente.\n",
        "3.   Edad: Edad en años\n",
        "4.   NIV_Educ: Nivel educacional.\n",
        "5.   E_Civil: Estado civil.\n",
        "6.   Ciudad: Ciudad de la oficina\n",
        "7.   D_Marzo: Deuda de Marzo\n",
        "8.   D_Abril: Deuda de Abril\n",
        "9.   D_Mayo: Deuda de Mayo\n",
        "10.  D_Junio: Deuda de Junio\n",
        "11.  D_Julio: Deuda de Julio\n",
        "12.  D_Agosto: Deuda de Agosto\n",
        "13.  D_Septiembre: Deuda de Septiembre\n",
        "14.  M_Moroso: Meses en Mora\n",
        "15.  Monto: Monto preaprobado.\n",
        "16.  Seguro: Seguro de gravamen.\n",
        "17.  Fuga: Variable objetivo\n"
      ]
    },
    {
      "cell_type": "markdown",
      "metadata": {
        "id": "j4iJce_accA_"
      },
      "source": [
        "# Análisis Exploratorio de Datos"
      ]
    },
    {
      "cell_type": "markdown",
      "metadata": {
        "id": "_bVo4YFAiwIx"
      },
      "source": [
        "## Estadística descriptiva"
      ]
    },
    {
      "cell_type": "markdown",
      "metadata": {
        "id": "xKi1wcpzKYtO"
      },
      "source": [
        "Para analizar el comportamiento de los datos de las variables numéricas, se calcula la media, desviación estandar, mínimo, máximo y cuartiles.\n",
        "\n",
        "Mientras que para las variables categóricas se obtiene la cantidad de categorías de la variable (unique), la moda (top) y la frecuencia de de la moda (freq)."
      ]
    },
    {
      "cell_type": "code",
      "metadata": {
        "id": "-e2wYMc-eEAw",
        "colab": {
          "base_uri": "https://localhost:8080/",
          "height": 410
        },
        "outputId": "de9b1dd3-fe63-4b0f-c3b5-b3b30d59e1c7"
      },
      "source": [
        "data_set.describe(include='all')"
      ],
      "execution_count": null,
      "outputs": [
        {
          "output_type": "execute_result",
          "data": {
            "text/html": [
              "<div>\n",
              "<style scoped>\n",
              "    .dataframe tbody tr th:only-of-type {\n",
              "        vertical-align: middle;\n",
              "    }\n",
              "\n",
              "    .dataframe tbody tr th {\n",
              "        vertical-align: top;\n",
              "    }\n",
              "\n",
              "    .dataframe thead th {\n",
              "        text-align: right;\n",
              "    }\n",
              "</style>\n",
              "<table border=\"1\" class=\"dataframe\">\n",
              "  <thead>\n",
              "    <tr style=\"text-align: right;\">\n",
              "      <th></th>\n",
              "      <th>ID</th>\n",
              "      <th>GENERO</th>\n",
              "      <th>EDAD</th>\n",
              "      <th>NIV_EDUC</th>\n",
              "      <th>E_CIVIL</th>\n",
              "      <th>CIUDAD</th>\n",
              "      <th>D_Marzo</th>\n",
              "      <th>D_Abril</th>\n",
              "      <th>D_Mayo</th>\n",
              "      <th>D_Junio</th>\n",
              "      <th>D_Julio</th>\n",
              "      <th>D_Agosto</th>\n",
              "      <th>D_Septiembre</th>\n",
              "      <th>M_MOROSO</th>\n",
              "      <th>MONTO</th>\n",
              "      <th>SEGURO</th>\n",
              "      <th>FUGA</th>\n",
              "    </tr>\n",
              "  </thead>\n",
              "  <tbody>\n",
              "    <tr>\n",
              "      <th>count</th>\n",
              "      <td>2294.000000</td>\n",
              "      <td>2283</td>\n",
              "      <td>2292.000000</td>\n",
              "      <td>2281</td>\n",
              "      <td>2282</td>\n",
              "      <td>2290</td>\n",
              "      <td>2.293000e+03</td>\n",
              "      <td>2.293000e+03</td>\n",
              "      <td>2.294000e+03</td>\n",
              "      <td>2.294000e+03</td>\n",
              "      <td>2293.000000</td>\n",
              "      <td>2293.000000</td>\n",
              "      <td>2294.000000</td>\n",
              "      <td>2292.000000</td>\n",
              "      <td>2.293000e+03</td>\n",
              "      <td>2294</td>\n",
              "      <td>2294</td>\n",
              "    </tr>\n",
              "    <tr>\n",
              "      <th>unique</th>\n",
              "      <td>NaN</td>\n",
              "      <td>2</td>\n",
              "      <td>NaN</td>\n",
              "      <td>5</td>\n",
              "      <td>4</td>\n",
              "      <td>75</td>\n",
              "      <td>NaN</td>\n",
              "      <td>NaN</td>\n",
              "      <td>NaN</td>\n",
              "      <td>NaN</td>\n",
              "      <td>NaN</td>\n",
              "      <td>NaN</td>\n",
              "      <td>NaN</td>\n",
              "      <td>NaN</td>\n",
              "      <td>NaN</td>\n",
              "      <td>2</td>\n",
              "      <td>2</td>\n",
              "    </tr>\n",
              "    <tr>\n",
              "      <th>top</th>\n",
              "      <td>NaN</td>\n",
              "      <td>M</td>\n",
              "      <td>NaN</td>\n",
              "      <td>UNV</td>\n",
              "      <td>CAS</td>\n",
              "      <td>SANTIAGO</td>\n",
              "      <td>NaN</td>\n",
              "      <td>NaN</td>\n",
              "      <td>NaN</td>\n",
              "      <td>NaN</td>\n",
              "      <td>NaN</td>\n",
              "      <td>NaN</td>\n",
              "      <td>NaN</td>\n",
              "      <td>NaN</td>\n",
              "      <td>NaN</td>\n",
              "      <td>NO</td>\n",
              "      <td>NOFUGA</td>\n",
              "    </tr>\n",
              "    <tr>\n",
              "      <th>freq</th>\n",
              "      <td>NaN</td>\n",
              "      <td>1385</td>\n",
              "      <td>NaN</td>\n",
              "      <td>946</td>\n",
              "      <td>1429</td>\n",
              "      <td>1389</td>\n",
              "      <td>NaN</td>\n",
              "      <td>NaN</td>\n",
              "      <td>NaN</td>\n",
              "      <td>NaN</td>\n",
              "      <td>NaN</td>\n",
              "      <td>NaN</td>\n",
              "      <td>NaN</td>\n",
              "      <td>NaN</td>\n",
              "      <td>NaN</td>\n",
              "      <td>1816</td>\n",
              "      <td>1157</td>\n",
              "    </tr>\n",
              "    <tr>\n",
              "      <th>mean</th>\n",
              "      <td>1147.500000</td>\n",
              "      <td>NaN</td>\n",
              "      <td>43.551920</td>\n",
              "      <td>NaN</td>\n",
              "      <td>NaN</td>\n",
              "      <td>NaN</td>\n",
              "      <td>1.530874e+05</td>\n",
              "      <td>2.726998e+05</td>\n",
              "      <td>1.032315e+05</td>\n",
              "      <td>1.899761e+05</td>\n",
              "      <td>567.093328</td>\n",
              "      <td>3580.321413</td>\n",
              "      <td>1940.639494</td>\n",
              "      <td>1.250436</td>\n",
              "      <td>3.477824e+06</td>\n",
              "      <td>NaN</td>\n",
              "      <td>NaN</td>\n",
              "    </tr>\n",
              "    <tr>\n",
              "      <th>std</th>\n",
              "      <td>662.365081</td>\n",
              "      <td>NaN</td>\n",
              "      <td>8.875511</td>\n",
              "      <td>NaN</td>\n",
              "      <td>NaN</td>\n",
              "      <td>NaN</td>\n",
              "      <td>4.982859e+05</td>\n",
              "      <td>4.024124e+05</td>\n",
              "      <td>8.706984e+05</td>\n",
              "      <td>6.705042e+05</td>\n",
              "      <td>1075.500117</td>\n",
              "      <td>8944.021261</td>\n",
              "      <td>9868.816840</td>\n",
              "      <td>0.752197</td>\n",
              "      <td>2.293166e+06</td>\n",
              "      <td>NaN</td>\n",
              "      <td>NaN</td>\n",
              "    </tr>\n",
              "    <tr>\n",
              "      <th>min</th>\n",
              "      <td>1.000000</td>\n",
              "      <td>NaN</td>\n",
              "      <td>-50.000000</td>\n",
              "      <td>NaN</td>\n",
              "      <td>NaN</td>\n",
              "      <td>NaN</td>\n",
              "      <td>0.000000e+00</td>\n",
              "      <td>0.000000e+00</td>\n",
              "      <td>0.000000e+00</td>\n",
              "      <td>0.000000e+00</td>\n",
              "      <td>0.000000</td>\n",
              "      <td>0.000000</td>\n",
              "      <td>0.000000</td>\n",
              "      <td>0.000000</td>\n",
              "      <td>5.000000e+05</td>\n",
              "      <td>NaN</td>\n",
              "      <td>NaN</td>\n",
              "    </tr>\n",
              "    <tr>\n",
              "      <th>25%</th>\n",
              "      <td>574.250000</td>\n",
              "      <td>NaN</td>\n",
              "      <td>39.000000</td>\n",
              "      <td>NaN</td>\n",
              "      <td>NaN</td>\n",
              "      <td>NaN</td>\n",
              "      <td>0.000000e+00</td>\n",
              "      <td>1.759600e+04</td>\n",
              "      <td>0.000000e+00</td>\n",
              "      <td>0.000000e+00</td>\n",
              "      <td>7.000000</td>\n",
              "      <td>0.000000</td>\n",
              "      <td>0.000000</td>\n",
              "      <td>1.000000</td>\n",
              "      <td>1.700000e+06</td>\n",
              "      <td>NaN</td>\n",
              "      <td>NaN</td>\n",
              "    </tr>\n",
              "    <tr>\n",
              "      <th>50%</th>\n",
              "      <td>1147.500000</td>\n",
              "      <td>NaN</td>\n",
              "      <td>44.000000</td>\n",
              "      <td>NaN</td>\n",
              "      <td>NaN</td>\n",
              "      <td>NaN</td>\n",
              "      <td>0.000000e+00</td>\n",
              "      <td>1.341700e+05</td>\n",
              "      <td>0.000000e+00</td>\n",
              "      <td>5.502000e+03</td>\n",
              "      <td>146.000000</td>\n",
              "      <td>0.000000</td>\n",
              "      <td>56.000000</td>\n",
              "      <td>1.000000</td>\n",
              "      <td>2.600000e+06</td>\n",
              "      <td>NaN</td>\n",
              "      <td>NaN</td>\n",
              "    </tr>\n",
              "    <tr>\n",
              "      <th>75%</th>\n",
              "      <td>1720.750000</td>\n",
              "      <td>NaN</td>\n",
              "      <td>50.000000</td>\n",
              "      <td>NaN</td>\n",
              "      <td>NaN</td>\n",
              "      <td>NaN</td>\n",
              "      <td>0.000000e+00</td>\n",
              "      <td>3.745150e+05</td>\n",
              "      <td>0.000000e+00</td>\n",
              "      <td>1.749060e+05</td>\n",
              "      <td>630.000000</td>\n",
              "      <td>1493.000000</td>\n",
              "      <td>497.250000</td>\n",
              "      <td>2.000000</td>\n",
              "      <td>4.800000e+06</td>\n",
              "      <td>NaN</td>\n",
              "      <td>NaN</td>\n",
              "    </tr>\n",
              "    <tr>\n",
              "      <th>max</th>\n",
              "      <td>2294.000000</td>\n",
              "      <td>NaN</td>\n",
              "      <td>130.000000</td>\n",
              "      <td>NaN</td>\n",
              "      <td>NaN</td>\n",
              "      <td>NaN</td>\n",
              "      <td>9.458161e+06</td>\n",
              "      <td>5.495534e+06</td>\n",
              "      <td>1.839696e+07</td>\n",
              "      <td>2.063461e+07</td>\n",
              "      <td>11187.000000</td>\n",
              "      <td>88837.000000</td>\n",
              "      <td>249652.000000</td>\n",
              "      <td>3.000000</td>\n",
              "      <td>8.000000e+06</td>\n",
              "      <td>NaN</td>\n",
              "      <td>NaN</td>\n",
              "    </tr>\n",
              "  </tbody>\n",
              "</table>\n",
              "</div>"
            ],
            "text/plain": [
              "                 ID GENERO         EDAD  ...         MONTO SEGURO    FUGA\n",
              "count   2294.000000   2283  2292.000000  ...  2.293000e+03   2294    2294\n",
              "unique          NaN      2          NaN  ...           NaN      2       2\n",
              "top             NaN      M          NaN  ...           NaN     NO  NOFUGA\n",
              "freq            NaN   1385          NaN  ...           NaN   1816    1157\n",
              "mean    1147.500000    NaN    43.551920  ...  3.477824e+06    NaN     NaN\n",
              "std      662.365081    NaN     8.875511  ...  2.293166e+06    NaN     NaN\n",
              "min        1.000000    NaN   -50.000000  ...  5.000000e+05    NaN     NaN\n",
              "25%      574.250000    NaN    39.000000  ...  1.700000e+06    NaN     NaN\n",
              "50%     1147.500000    NaN    44.000000  ...  2.600000e+06    NaN     NaN\n",
              "75%     1720.750000    NaN    50.000000  ...  4.800000e+06    NaN     NaN\n",
              "max     2294.000000    NaN   130.000000  ...  8.000000e+06    NaN     NaN\n",
              "\n",
              "[11 rows x 17 columns]"
            ]
          },
          "metadata": {},
          "execution_count": 5
        }
      ]
    },
    {
      "cell_type": "markdown",
      "metadata": {
        "id": "5y7yy8pmuYAR"
      },
      "source": [
        "Se observa que existen algunas variables con datos inconsistentes, como \"Edad\", que posee un valor mínimo de -50 y máximo de 130."
      ]
    },
    {
      "cell_type": "code",
      "metadata": {
        "id": "SgRIN_48vf7f",
        "colab": {
          "base_uri": "https://localhost:8080/"
        },
        "outputId": "be34beb2-4499-4899-da05-637f92a21a3a"
      },
      "source": [
        "data_set.info()"
      ],
      "execution_count": null,
      "outputs": [
        {
          "output_type": "stream",
          "name": "stdout",
          "text": [
            "<class 'pandas.core.frame.DataFrame'>\n",
            "RangeIndex: 2294 entries, 0 to 2293\n",
            "Data columns (total 17 columns):\n",
            " #   Column        Non-Null Count  Dtype  \n",
            "---  ------        --------------  -----  \n",
            " 0   ID            2294 non-null   int64  \n",
            " 1   GENERO        2283 non-null   object \n",
            " 2   EDAD          2292 non-null   float64\n",
            " 3   NIV_EDUC      2281 non-null   object \n",
            " 4   E_CIVIL       2282 non-null   object \n",
            " 5   CIUDAD        2290 non-null   object \n",
            " 6   D_Marzo       2293 non-null   float64\n",
            " 7   D_Abril       2293 non-null   float64\n",
            " 8   D_Mayo        2294 non-null   int64  \n",
            " 9   D_Junio       2294 non-null   int64  \n",
            " 10  D_Julio       2293 non-null   float64\n",
            " 11  D_Agosto      2293 non-null   float64\n",
            " 12  D_Septiembre  2294 non-null   int64  \n",
            " 13  M_MOROSO      2292 non-null   float64\n",
            " 14  MONTO         2293 non-null   float64\n",
            " 15  SEGURO        2294 non-null   object \n",
            " 16  FUGA          2294 non-null   object \n",
            "dtypes: float64(7), int64(4), object(6)\n",
            "memory usage: 304.8+ KB\n"
          ]
        }
      ]
    },
    {
      "cell_type": "markdown",
      "metadata": {
        "id": "VKyV26-hihNK"
      },
      "source": [
        "De los códigos utilizados anteriormente, se puede inferir que son datos para 2294 clientes, dado que describe() indica que no existen valores únicos en \"ID\" (en otras palabras, son todos distintos y no se repite ninguno). En el caso de info(), se observa que hay columnas con menor cantidad de datos, por lo que se puede concluir que existen clientes a los que les falta información.\n"
      ]
    },
    {
      "cell_type": "markdown",
      "metadata": {
        "id": "_Gs9dRR_iqaS"
      },
      "source": [
        "La cantidad de valores perdidos se observa en el siguiente código:"
      ]
    },
    {
      "cell_type": "code",
      "metadata": {
        "id": "AWDymVEwfAkY",
        "colab": {
          "base_uri": "https://localhost:8080/"
        },
        "outputId": "2300190a-b126-4b7e-a270-b5e3af9d0cd2"
      },
      "source": [
        "data_set.isnull().sum()"
      ],
      "execution_count": null,
      "outputs": [
        {
          "output_type": "execute_result",
          "data": {
            "text/plain": [
              "ID               0\n",
              "GENERO          11\n",
              "EDAD             2\n",
              "NIV_EDUC        13\n",
              "E_CIVIL         12\n",
              "CIUDAD           4\n",
              "D_Marzo          1\n",
              "D_Abril          1\n",
              "D_Mayo           0\n",
              "D_Junio          0\n",
              "D_Julio          1\n",
              "D_Agosto         1\n",
              "D_Septiembre     0\n",
              "M_MOROSO         2\n",
              "MONTO            1\n",
              "SEGURO           0\n",
              "FUGA             0\n",
              "dtype: int64"
            ]
          },
          "metadata": {},
          "execution_count": 7
        }
      ]
    },
    {
      "cell_type": "markdown",
      "metadata": {
        "id": "U40OZp-Gj6W5"
      },
      "source": [
        "## Gráficos"
      ]
    },
    {
      "cell_type": "markdown",
      "metadata": {
        "id": "0-aNSUq_aLql"
      },
      "source": [
        "De manera de visualizar de mejor forma la variable 'EDAD', se realiza el siguiente gráfico:"
      ]
    },
    {
      "cell_type": "code",
      "metadata": {
        "id": "jP3JI8Wagb-F",
        "colab": {
          "base_uri": "https://localhost:8080/",
          "height": 307
        },
        "outputId": "63d49fd7-4a42-44e1-d506-6a4c813c2f4c"
      },
      "source": [
        "data_set['EDAD'].value_counts().sort_index().plot.bar(figsize=(25,6))\n",
        "plt.xlabel('EDAD')\n",
        "plt.show()"
      ],
      "execution_count": null,
      "outputs": [
        {
          "output_type": "display_data",
          "data": {
            "image/png": "[encoded data removed]",
            "text/plain": [
              "<Figure size 1800x432 with 1 Axes>"
            ]
          },
          "metadata": {
            "needs_background": "light"
          }
        }
      ]
    },
    {
      "cell_type": "markdown",
      "metadata": {
        "id": "kOMldBi8oJ0U"
      },
      "source": [
        "En el gráfico anterior se puede observar que existe una gran cantidad de clientes entre 40 y 47 años, reduciéndose sostenidamente hasta los 55. Luego se produce una reducción drástica en la cantidad de clientes con edad igual o superior a los 56 años.\n",
        "\n",
        "Además, en este gráfico se logra visualizar de mejor forma los valores inconsistentes, que son aquellos clientes iguales o superiores a 99 años y los que poseen edad negativa.\n",
        "\n",
        "A continuación, se presenta un histograma de puntos para visualizar valores atípicos (outliers), para las deudas de cada mes:"
      ]
    },
    {
      "cell_type": "code",
      "metadata": {
        "id": "JP2Hxpw8kACn",
        "colab": {
          "base_uri": "https://localhost:8080/",
          "height": 806
        },
        "outputId": "cf2a3024-e7c3-4e18-ebd3-95c978fe5849"
      },
      "source": [
        "sn.stripplot(x='D_Marzo', data=data_set)\n",
        "plt.show()\n",
        "\n",
        "sn.stripplot(x='D_Abril', data=data_set)\n",
        "plt.show()\n",
        "\n",
        "sn.stripplot(x='D_Mayo', data=data_set)\n",
        "plt.show()\n",
        "\n"
      ],
      "execution_count": null,
      "outputs": [
        {
          "output_type": "display_data",
          "data": {
            "image/png": "[encoded data removed]",
            "text/plain": [
              "<Figure size 432x288 with 1 Axes>"
            ]
          },
          "metadata": {
            "needs_background": "light"
          }
        },
        {
          "output_type": "display_data",
          "data": {
            "image/png": "[encoded data removed]",
            "text/plain": [
              "<Figure size 432x288 with 1 Axes>"
            ]
          },
          "metadata": {
            "needs_background": "light"
          }
        },
        {
          "output_type": "display_data",
          "data": {
            "image/png": "[encoded data removed]",
            "text/plain": [
              "<Figure size 432x288 with 1 Axes>"
            ]
          },
          "metadata": {
            "needs_background": "light"
          }
        }
      ]
    },
    {
      "cell_type": "code",
      "metadata": {
        "colab": {
          "base_uri": "https://localhost:8080/",
          "height": 806
        },
        "id": "y9xWmTeK5LKd",
        "outputId": "34bd538d-4f82-49f6-e774-5eb4eb90eaa3"
      },
      "source": [
        "sn.stripplot(x='D_Junio', data=data_set)\n",
        "plt.show()\n",
        "\n",
        "sn.stripplot(x='D_Julio', data=data_set)\n",
        "plt.show()\n",
        "\n",
        "sn.stripplot(x='D_Agosto', data=data_set)\n",
        "plt.show()\n"
      ],
      "execution_count": null,
      "outputs": [
        {
          "output_type": "display_data",
          "data": {
            "image/png": "[encoded data removed]",
            "text/plain": [
              "<Figure size 432x288 with 1 Axes>"
            ]
          },
          "metadata": {
            "needs_background": "light"
          }
        },
        {
          "output_type": "display_data",
          "data": {
            "image/png": "[encoded data removed]",
            "text/plain": [
              "<Figure size 432x288 with 1 Axes>"
            ]
          },
          "metadata": {
            "needs_background": "light"
          }
        },
        {
          "output_type": "display_data",
          "data": {
            "image/png": "[encoded data removed]",
            "text/plain": [
              "<Figure size 432x288 with 1 Axes>"
            ]
          },
          "metadata": {
            "needs_background": "light"
          }
        }
      ]
    },
    {
      "cell_type": "code",
      "metadata": {
        "colab": {
          "base_uri": "https://localhost:8080/",
          "height": 280
        },
        "id": "LGV59vPm5Th2",
        "outputId": "fee44a95-bf01-4818-d310-de60c23060e7"
      },
      "source": [
        "sn.stripplot(x='D_Septiembre', data=data_set)\n",
        "plt.show()"
      ],
      "execution_count": null,
      "outputs": [
        {
          "output_type": "display_data",
          "data": {
            "image/png": "[encoded data removed]",
            "text/plain": [
              "<Figure size 432x288 with 1 Axes>"
            ]
          },
          "metadata": {
            "needs_background": "light"
          }
        }
      ]
    },
    {
      "cell_type": "markdown",
      "metadata": {
        "id": "q71jKudqoUvi"
      },
      "source": [
        "Se observa de manera preliminar que hay una alta concentración de datos en torno a cero, en otras palabras, no existe deudas o esta es muy baja para una amplia cantidad de datos.\n",
        "\n",
        "A continuación se visualiza la relación existente entre la variable 'GENERO' y la variable objetivo ('FUGA')"
      ]
    },
    {
      "cell_type": "code",
      "metadata": {
        "id": "g115VKrTn3nh",
        "colab": {
          "base_uri": "https://localhost:8080/",
          "height": 278
        },
        "outputId": "930876b4-4e43-4ac1-fa02-35993e3f6def"
      },
      "source": [
        "data_set.groupby(['GENERO', 'FUGA']).size().unstack().plot.bar(stacked=True)\n",
        "plt.show()"
      ],
      "execution_count": null,
      "outputs": [
        {
          "output_type": "display_data",
          "data": {
            "image/png": "[encoded data removed]",
            "text/plain": [
              "<Figure size 432x288 with 1 Axes>"
            ]
          },
          "metadata": {
            "needs_background": "light"
          }
        }
      ]
    },
    {
      "cell_type": "markdown",
      "metadata": {
        "id": "oLeD1Sh-6ihg"
      },
      "source": [
        "Del gráfico anterior, se puede desprender que existe una notoria superioridad del genero masculino en cantidad de fugas, siendo además superior la proporción de clientes hombres que se fugan con respecto a los que no, caso contrario a lo que ocurre con el genero femenino, que existe una menor cantidad y proporción de clientes que se fugan."
      ]
    },
    {
      "cell_type": "markdown",
      "metadata": {
        "id": "Lvol9kZOohwz"
      },
      "source": [
        "De manera adicional, en el siguiente gráfico se relaciona la variable objetivo con 'NIV_EDUC', presentándose una mayor proporción de clientes fugados para 'UNIV', mientras que 'EUN' presenta en su totalidad clientes no fugados."
      ]
    },
    {
      "cell_type": "code",
      "metadata": {
        "id": "Bn-OESApolT9",
        "colab": {
          "base_uri": "https://localhost:8080/",
          "height": 293
        },
        "outputId": "98abd483-9679-48d1-a225-0a4cfb067f4b"
      },
      "source": [
        "data_set.groupby(['NIV_EDUC', 'FUGA']).size().groupby(level=0).apply(lambda x: 100 * x / x.sum()).unstack().plot.bar(stacked=True)\n",
        "plt.show()"
      ],
      "execution_count": null,
      "outputs": [
        {
          "output_type": "display_data",
          "data": {
            "image/png": "[encoded data removed]",
            "text/plain": [
              "<Figure size 432x288 with 1 Axes>"
            ]
          },
          "metadata": {
            "needs_background": "light"
          }
        }
      ]
    },
    {
      "cell_type": "markdown",
      "metadata": {
        "id": "WaFZi48l2iTI"
      },
      "source": [
        "A continuación se observa a escala real la diferencia de datos existentes para cada categoría de 'NIV_EDUC'."
      ]
    },
    {
      "cell_type": "code",
      "metadata": {
        "colab": {
          "base_uri": "https://localhost:8080/",
          "height": 293
        },
        "id": "-GUibnM91Twe",
        "outputId": "e6b40eeb-bac8-4021-8a2a-c00c042e564e"
      },
      "source": [
        "data_set.groupby(['NIV_EDUC', 'FUGA']).size().unstack().plot.bar(stacked=True)\n",
        "plt.show()"
      ],
      "execution_count": null,
      "outputs": [
        {
          "output_type": "display_data",
          "data": {
            "image/png": "[encoded data removed]",
            "text/plain": [
              "<Figure size 432x288 with 1 Axes>"
            ]
          },
          "metadata": {
            "needs_background": "light"
          }
        }
      ]
    },
    {
      "cell_type": "markdown",
      "metadata": {
        "id": "aLibfv422urx"
      },
      "source": [
        "Como se puede observar, son muy pocos datos para 'BAS' y 'EUN'. En el caso de este último, al detectarse además que se trata solamente de clientes no fugados, se considerará como inconsistencia."
      ]
    },
    {
      "cell_type": "markdown",
      "metadata": {
        "id": "aeAnT-J28loU"
      },
      "source": [
        "# Limpieza de datos"
      ]
    },
    {
      "cell_type": "markdown",
      "metadata": {
        "id": "1aiiWpzzFXpB"
      },
      "source": [
        "## Inconsistencias"
      ]
    },
    {
      "cell_type": "markdown",
      "metadata": {
        "id": "5O8_9NQi8y4A"
      },
      "source": [
        "Quedarán declaradas como nulas las inconsistencias detectadas anteriormente para 'EDAD' y 'NIV_EDUC':"
      ]
    },
    {
      "cell_type": "code",
      "metadata": {
        "id": "ezsdQWev8rgs",
        "colab": {
          "base_uri": "https://localhost:8080/",
          "height": 410
        },
        "outputId": "a7bd4a81-b528-40b0-f2cf-a450a4d8a4ff"
      },
      "source": [
        "data_set.loc[data_set['EDAD'] < 0, ['EDAD']] = np.nan\n",
        "data_set.loc[data_set['EDAD'] > 95, ['EDAD']] = np.nan\n",
        "data_set.loc[data_set['NIV_EDUC'] == 'EUN', ['NIV_EDUC']] = np.nan\n",
        "\n",
        "data_set.describe(include='all')"
      ],
      "execution_count": null,
      "outputs": [
        {
          "output_type": "execute_result",
          "data": {
            "text/html": [
              "<div>\n",
              "<style scoped>\n",
              "    .dataframe tbody tr th:only-of-type {\n",
              "        vertical-align: middle;\n",
              "    }\n",
              "\n",
              "    .dataframe tbody tr th {\n",
              "        vertical-align: top;\n",
              "    }\n",
              "\n",
              "    .dataframe thead th {\n",
              "        text-align: right;\n",
              "    }\n",
              "</style>\n",
              "<table border=\"1\" class=\"dataframe\">\n",
              "  <thead>\n",
              "    <tr style=\"text-align: right;\">\n",
              "      <th></th>\n",
              "      <th>ID</th>\n",
              "      <th>GENERO</th>\n",
              "      <th>EDAD</th>\n",
              "      <th>NIV_EDUC</th>\n",
              "      <th>E_CIVIL</th>\n",
              "      <th>CIUDAD</th>\n",
              "      <th>D_Marzo</th>\n",
              "      <th>D_Abril</th>\n",
              "      <th>D_Mayo</th>\n",
              "      <th>D_Junio</th>\n",
              "      <th>D_Julio</th>\n",
              "      <th>D_Agosto</th>\n",
              "      <th>D_Septiembre</th>\n",
              "      <th>M_MOROSO</th>\n",
              "      <th>MONTO</th>\n",
              "      <th>SEGURO</th>\n",
              "      <th>FUGA</th>\n",
              "    </tr>\n",
              "  </thead>\n",
              "  <tbody>\n",
              "    <tr>\n",
              "      <th>count</th>\n",
              "      <td>2294.000000</td>\n",
              "      <td>2283</td>\n",
              "      <td>2286.000000</td>\n",
              "      <td>2269</td>\n",
              "      <td>2282</td>\n",
              "      <td>2290</td>\n",
              "      <td>2.293000e+03</td>\n",
              "      <td>2.293000e+03</td>\n",
              "      <td>2.294000e+03</td>\n",
              "      <td>2.294000e+03</td>\n",
              "      <td>2293.000000</td>\n",
              "      <td>2293.000000</td>\n",
              "      <td>2294.000000</td>\n",
              "      <td>2292.000000</td>\n",
              "      <td>2.293000e+03</td>\n",
              "      <td>2294</td>\n",
              "      <td>2294</td>\n",
              "    </tr>\n",
              "    <tr>\n",
              "      <th>unique</th>\n",
              "      <td>NaN</td>\n",
              "      <td>2</td>\n",
              "      <td>NaN</td>\n",
              "      <td>4</td>\n",
              "      <td>4</td>\n",
              "      <td>75</td>\n",
              "      <td>NaN</td>\n",
              "      <td>NaN</td>\n",
              "      <td>NaN</td>\n",
              "      <td>NaN</td>\n",
              "      <td>NaN</td>\n",
              "      <td>NaN</td>\n",
              "      <td>NaN</td>\n",
              "      <td>NaN</td>\n",
              "      <td>NaN</td>\n",
              "      <td>2</td>\n",
              "      <td>2</td>\n",
              "    </tr>\n",
              "    <tr>\n",
              "      <th>top</th>\n",
              "      <td>NaN</td>\n",
              "      <td>M</td>\n",
              "      <td>NaN</td>\n",
              "      <td>UNV</td>\n",
              "      <td>CAS</td>\n",
              "      <td>SANTIAGO</td>\n",
              "      <td>NaN</td>\n",
              "      <td>NaN</td>\n",
              "      <td>NaN</td>\n",
              "      <td>NaN</td>\n",
              "      <td>NaN</td>\n",
              "      <td>NaN</td>\n",
              "      <td>NaN</td>\n",
              "      <td>NaN</td>\n",
              "      <td>NaN</td>\n",
              "      <td>NO</td>\n",
              "      <td>NOFUGA</td>\n",
              "    </tr>\n",
              "    <tr>\n",
              "      <th>freq</th>\n",
              "      <td>NaN</td>\n",
              "      <td>1385</td>\n",
              "      <td>NaN</td>\n",
              "      <td>946</td>\n",
              "      <td>1429</td>\n",
              "      <td>1389</td>\n",
              "      <td>NaN</td>\n",
              "      <td>NaN</td>\n",
              "      <td>NaN</td>\n",
              "      <td>NaN</td>\n",
              "      <td>NaN</td>\n",
              "      <td>NaN</td>\n",
              "      <td>NaN</td>\n",
              "      <td>NaN</td>\n",
              "      <td>NaN</td>\n",
              "      <td>1816</td>\n",
              "      <td>1157</td>\n",
              "    </tr>\n",
              "    <tr>\n",
              "      <th>mean</th>\n",
              "      <td>1147.500000</td>\n",
              "      <td>NaN</td>\n",
              "      <td>43.561680</td>\n",
              "      <td>NaN</td>\n",
              "      <td>NaN</td>\n",
              "      <td>NaN</td>\n",
              "      <td>1.530874e+05</td>\n",
              "      <td>2.726998e+05</td>\n",
              "      <td>1.032315e+05</td>\n",
              "      <td>1.899761e+05</td>\n",
              "      <td>567.093328</td>\n",
              "      <td>3580.321413</td>\n",
              "      <td>1940.639494</td>\n",
              "      <td>1.250436</td>\n",
              "      <td>3.477824e+06</td>\n",
              "      <td>NaN</td>\n",
              "      <td>NaN</td>\n",
              "    </tr>\n",
              "    <tr>\n",
              "      <th>std</th>\n",
              "      <td>662.365081</td>\n",
              "      <td>NaN</td>\n",
              "      <td>7.990333</td>\n",
              "      <td>NaN</td>\n",
              "      <td>NaN</td>\n",
              "      <td>NaN</td>\n",
              "      <td>4.982859e+05</td>\n",
              "      <td>4.024124e+05</td>\n",
              "      <td>8.706984e+05</td>\n",
              "      <td>6.705042e+05</td>\n",
              "      <td>1075.500117</td>\n",
              "      <td>8944.021261</td>\n",
              "      <td>9868.816840</td>\n",
              "      <td>0.752197</td>\n",
              "      <td>2.293166e+06</td>\n",
              "      <td>NaN</td>\n",
              "      <td>NaN</td>\n",
              "    </tr>\n",
              "    <tr>\n",
              "      <th>min</th>\n",
              "      <td>1.000000</td>\n",
              "      <td>NaN</td>\n",
              "      <td>23.000000</td>\n",
              "      <td>NaN</td>\n",
              "      <td>NaN</td>\n",
              "      <td>NaN</td>\n",
              "      <td>0.000000e+00</td>\n",
              "      <td>0.000000e+00</td>\n",
              "      <td>0.000000e+00</td>\n",
              "      <td>0.000000e+00</td>\n",
              "      <td>0.000000</td>\n",
              "      <td>0.000000</td>\n",
              "      <td>0.000000</td>\n",
              "      <td>0.000000</td>\n",
              "      <td>5.000000e+05</td>\n",
              "      <td>NaN</td>\n",
              "      <td>NaN</td>\n",
              "    </tr>\n",
              "    <tr>\n",
              "      <th>25%</th>\n",
              "      <td>574.250000</td>\n",
              "      <td>NaN</td>\n",
              "      <td>39.000000</td>\n",
              "      <td>NaN</td>\n",
              "      <td>NaN</td>\n",
              "      <td>NaN</td>\n",
              "      <td>0.000000e+00</td>\n",
              "      <td>1.759600e+04</td>\n",
              "      <td>0.000000e+00</td>\n",
              "      <td>0.000000e+00</td>\n",
              "      <td>7.000000</td>\n",
              "      <td>0.000000</td>\n",
              "      <td>0.000000</td>\n",
              "      <td>1.000000</td>\n",
              "      <td>1.700000e+06</td>\n",
              "      <td>NaN</td>\n",
              "      <td>NaN</td>\n",
              "    </tr>\n",
              "    <tr>\n",
              "      <th>50%</th>\n",
              "      <td>1147.500000</td>\n",
              "      <td>NaN</td>\n",
              "      <td>44.000000</td>\n",
              "      <td>NaN</td>\n",
              "      <td>NaN</td>\n",
              "      <td>NaN</td>\n",
              "      <td>0.000000e+00</td>\n",
              "      <td>1.341700e+05</td>\n",
              "      <td>0.000000e+00</td>\n",
              "      <td>5.502000e+03</td>\n",
              "      <td>146.000000</td>\n",
              "      <td>0.000000</td>\n",
              "      <td>56.000000</td>\n",
              "      <td>1.000000</td>\n",
              "      <td>2.600000e+06</td>\n",
              "      <td>NaN</td>\n",
              "      <td>NaN</td>\n",
              "    </tr>\n",
              "    <tr>\n",
              "      <th>75%</th>\n",
              "      <td>1720.750000</td>\n",
              "      <td>NaN</td>\n",
              "      <td>50.000000</td>\n",
              "      <td>NaN</td>\n",
              "      <td>NaN</td>\n",
              "      <td>NaN</td>\n",
              "      <td>0.000000e+00</td>\n",
              "      <td>3.745150e+05</td>\n",
              "      <td>0.000000e+00</td>\n",
              "      <td>1.749060e+05</td>\n",
              "      <td>630.000000</td>\n",
              "      <td>1493.000000</td>\n",
              "      <td>497.250000</td>\n",
              "      <td>2.000000</td>\n",
              "      <td>4.800000e+06</td>\n",
              "      <td>NaN</td>\n",
              "      <td>NaN</td>\n",
              "    </tr>\n",
              "    <tr>\n",
              "      <th>max</th>\n",
              "      <td>2294.000000</td>\n",
              "      <td>NaN</td>\n",
              "      <td>64.000000</td>\n",
              "      <td>NaN</td>\n",
              "      <td>NaN</td>\n",
              "      <td>NaN</td>\n",
              "      <td>9.458161e+06</td>\n",
              "      <td>5.495534e+06</td>\n",
              "      <td>1.839696e+07</td>\n",
              "      <td>2.063461e+07</td>\n",
              "      <td>11187.000000</td>\n",
              "      <td>88837.000000</td>\n",
              "      <td>249652.000000</td>\n",
              "      <td>3.000000</td>\n",
              "      <td>8.000000e+06</td>\n",
              "      <td>NaN</td>\n",
              "      <td>NaN</td>\n",
              "    </tr>\n",
              "  </tbody>\n",
              "</table>\n",
              "</div>"
            ],
            "text/plain": [
              "                 ID GENERO         EDAD  ...         MONTO SEGURO    FUGA\n",
              "count   2294.000000   2283  2286.000000  ...  2.293000e+03   2294    2294\n",
              "unique          NaN      2          NaN  ...           NaN      2       2\n",
              "top             NaN      M          NaN  ...           NaN     NO  NOFUGA\n",
              "freq            NaN   1385          NaN  ...           NaN   1816    1157\n",
              "mean    1147.500000    NaN    43.561680  ...  3.477824e+06    NaN     NaN\n",
              "std      662.365081    NaN     7.990333  ...  2.293166e+06    NaN     NaN\n",
              "min        1.000000    NaN    23.000000  ...  5.000000e+05    NaN     NaN\n",
              "25%      574.250000    NaN    39.000000  ...  1.700000e+06    NaN     NaN\n",
              "50%     1147.500000    NaN    44.000000  ...  2.600000e+06    NaN     NaN\n",
              "75%     1720.750000    NaN    50.000000  ...  4.800000e+06    NaN     NaN\n",
              "max     2294.000000    NaN    64.000000  ...  8.000000e+06    NaN     NaN\n",
              "\n",
              "[11 rows x 17 columns]"
            ]
          },
          "metadata": {},
          "execution_count": 15
        }
      ]
    },
    {
      "cell_type": "markdown",
      "metadata": {
        "id": "66xOOA9XaoPP"
      },
      "source": [
        "A continuación se observan la cantidad de datos nulos y su proporción con respecto al total de datos de la columna:"
      ]
    },
    {
      "cell_type": "code",
      "metadata": {
        "colab": {
          "base_uri": "https://localhost:8080/"
        },
        "id": "YnOFVoaVgqDS",
        "outputId": "593562d0-8c8c-446b-a2e3-eb10a6fad124"
      },
      "source": [
        "data_set.isnull().sum()"
      ],
      "execution_count": null,
      "outputs": [
        {
          "output_type": "execute_result",
          "data": {
            "text/plain": [
              "ID               0\n",
              "GENERO          11\n",
              "EDAD             8\n",
              "NIV_EDUC        25\n",
              "E_CIVIL         12\n",
              "CIUDAD           4\n",
              "D_Marzo          1\n",
              "D_Abril          1\n",
              "D_Mayo           0\n",
              "D_Junio          0\n",
              "D_Julio          1\n",
              "D_Agosto         1\n",
              "D_Septiembre     0\n",
              "M_MOROSO         2\n",
              "MONTO            1\n",
              "SEGURO           0\n",
              "FUGA             0\n",
              "dtype: int64"
            ]
          },
          "metadata": {},
          "execution_count": 16
        }
      ]
    },
    {
      "cell_type": "code",
      "metadata": {
        "colab": {
          "base_uri": "https://localhost:8080/"
        },
        "id": "LYN3se31lqQU",
        "outputId": "fe902bd6-12e1-4e91-ada7-a48436cc4eec"
      },
      "source": [
        "print('EDAD: ' + str(round((data_set[\"EDAD\"].isnull().sum()/data_set.shape[0]), 4)))\n",
        "print('GENERO: ' + str(round((data_set[\"GENERO\"].isnull().sum()/data_set.shape[0]), 4)))\n",
        "print('NIV_EDUC: ' + str(round((data_set[\"NIV_EDUC\"].isnull().sum()/data_set.shape[0]), 4)))\n",
        "print('E_CIVIL: ' + str(round((data_set[\"E_CIVIL\"].isnull().sum()/data_set.shape[0]), 4)))\n",
        "print('CIUDAD: ' + str(round((data_set[\"CIUDAD\"].isnull().sum()/data_set.shape[0]), 4)))\n",
        "print('D_Marzo: ' + str(round((data_set[\"D_Marzo\"].isnull().sum()/data_set.shape[0]), 4)))\n",
        "print('D_Abril: ' + str(round((data_set[\"D_Abril\"].isnull().sum()/data_set.shape[0]), 4)))\n",
        "print('D_Julio: ' + str(round((data_set[\"D_Julio\"].isnull().sum()/data_set.shape[0]), 4)))\n",
        "print('D_Agosto: ' + str(round((data_set[\"D_Agosto\"].isnull().sum()/data_set.shape[0]), 4)))\n",
        "print('M_MOROSO: ' + str(round((data_set[\"M_MOROSO\"].isnull().sum()/data_set.shape[0]), 4)))\n",
        "print('MONTO: ' + str(round((data_set[\"MONTO\"].isnull().sum()/data_set.shape[0]), 4)))"
      ],
      "execution_count": null,
      "outputs": [
        {
          "output_type": "stream",
          "name": "stdout",
          "text": [
            "EDAD: 0.0035\n",
            "GENERO: 0.0048\n",
            "NIV_EDUC: 0.0109\n",
            "E_CIVIL: 0.0052\n",
            "CIUDAD: 0.0017\n",
            "D_Marzo: 0.0004\n",
            "D_Abril: 0.0004\n",
            "D_Julio: 0.0004\n",
            "D_Agosto: 0.0004\n",
            "M_MOROSO: 0.0009\n",
            "MONTO: 0.0004\n"
          ]
        }
      ]
    },
    {
      "cell_type": "markdown",
      "metadata": {
        "id": "RTb1VGraMxcj"
      },
      "source": [
        "Como se puede apreciar, los porcentajes de valores perdidos para cada variable se encuentran cercano a 0%, por lo que serán eliminados (por listwise deletion)"
      ]
    },
    {
      "cell_type": "code",
      "metadata": {
        "id": "Ytw7yIJwKOSM"
      },
      "source": [
        "data_set = data_set.dropna(axis=0, how='any')"
      ],
      "execution_count": null,
      "outputs": []
    },
    {
      "cell_type": "code",
      "metadata": {
        "colab": {
          "base_uri": "https://localhost:8080/",
          "height": 410
        },
        "id": "Y4lEBQOstutJ",
        "outputId": "556e6bf2-c23b-461a-f7c1-6d662844c795"
      },
      "source": [
        "data_set.describe(include='all')"
      ],
      "execution_count": null,
      "outputs": [
        {
          "output_type": "execute_result",
          "data": {
            "text/html": [
              "<div>\n",
              "<style scoped>\n",
              "    .dataframe tbody tr th:only-of-type {\n",
              "        vertical-align: middle;\n",
              "    }\n",
              "\n",
              "    .dataframe tbody tr th {\n",
              "        vertical-align: top;\n",
              "    }\n",
              "\n",
              "    .dataframe thead th {\n",
              "        text-align: right;\n",
              "    }\n",
              "</style>\n",
              "<table border=\"1\" class=\"dataframe\">\n",
              "  <thead>\n",
              "    <tr style=\"text-align: right;\">\n",
              "      <th></th>\n",
              "      <th>ID</th>\n",
              "      <th>GENERO</th>\n",
              "      <th>EDAD</th>\n",
              "      <th>NIV_EDUC</th>\n",
              "      <th>E_CIVIL</th>\n",
              "      <th>CIUDAD</th>\n",
              "      <th>D_Marzo</th>\n",
              "      <th>D_Abril</th>\n",
              "      <th>D_Mayo</th>\n",
              "      <th>D_Junio</th>\n",
              "      <th>D_Julio</th>\n",
              "      <th>D_Agosto</th>\n",
              "      <th>D_Septiembre</th>\n",
              "      <th>M_MOROSO</th>\n",
              "      <th>MONTO</th>\n",
              "      <th>SEGURO</th>\n",
              "      <th>FUGA</th>\n",
              "    </tr>\n",
              "  </thead>\n",
              "  <tbody>\n",
              "    <tr>\n",
              "      <th>count</th>\n",
              "      <td>2227.000000</td>\n",
              "      <td>2227</td>\n",
              "      <td>2227.000000</td>\n",
              "      <td>2227</td>\n",
              "      <td>2227</td>\n",
              "      <td>2227</td>\n",
              "      <td>2.227000e+03</td>\n",
              "      <td>2.227000e+03</td>\n",
              "      <td>2.227000e+03</td>\n",
              "      <td>2.227000e+03</td>\n",
              "      <td>2227.000000</td>\n",
              "      <td>2227.000000</td>\n",
              "      <td>2227.000000</td>\n",
              "      <td>2227.000000</td>\n",
              "      <td>2.227000e+03</td>\n",
              "      <td>2227</td>\n",
              "      <td>2227</td>\n",
              "    </tr>\n",
              "    <tr>\n",
              "      <th>unique</th>\n",
              "      <td>NaN</td>\n",
              "      <td>2</td>\n",
              "      <td>NaN</td>\n",
              "      <td>4</td>\n",
              "      <td>4</td>\n",
              "      <td>74</td>\n",
              "      <td>NaN</td>\n",
              "      <td>NaN</td>\n",
              "      <td>NaN</td>\n",
              "      <td>NaN</td>\n",
              "      <td>NaN</td>\n",
              "      <td>NaN</td>\n",
              "      <td>NaN</td>\n",
              "      <td>NaN</td>\n",
              "      <td>NaN</td>\n",
              "      <td>2</td>\n",
              "      <td>2</td>\n",
              "    </tr>\n",
              "    <tr>\n",
              "      <th>top</th>\n",
              "      <td>NaN</td>\n",
              "      <td>M</td>\n",
              "      <td>NaN</td>\n",
              "      <td>UNV</td>\n",
              "      <td>CAS</td>\n",
              "      <td>SANTIAGO</td>\n",
              "      <td>NaN</td>\n",
              "      <td>NaN</td>\n",
              "      <td>NaN</td>\n",
              "      <td>NaN</td>\n",
              "      <td>NaN</td>\n",
              "      <td>NaN</td>\n",
              "      <td>NaN</td>\n",
              "      <td>NaN</td>\n",
              "      <td>NaN</td>\n",
              "      <td>NO</td>\n",
              "      <td>NOFUGA</td>\n",
              "    </tr>\n",
              "    <tr>\n",
              "      <th>freq</th>\n",
              "      <td>NaN</td>\n",
              "      <td>1350</td>\n",
              "      <td>NaN</td>\n",
              "      <td>924</td>\n",
              "      <td>1398</td>\n",
              "      <td>1346</td>\n",
              "      <td>NaN</td>\n",
              "      <td>NaN</td>\n",
              "      <td>NaN</td>\n",
              "      <td>NaN</td>\n",
              "      <td>NaN</td>\n",
              "      <td>NaN</td>\n",
              "      <td>NaN</td>\n",
              "      <td>NaN</td>\n",
              "      <td>NaN</td>\n",
              "      <td>1762</td>\n",
              "      <td>1116</td>\n",
              "    </tr>\n",
              "    <tr>\n",
              "      <th>mean</th>\n",
              "      <td>1149.296812</td>\n",
              "      <td>NaN</td>\n",
              "      <td>43.651100</td>\n",
              "      <td>NaN</td>\n",
              "      <td>NaN</td>\n",
              "      <td>NaN</td>\n",
              "      <td>1.529462e+05</td>\n",
              "      <td>2.718356e+05</td>\n",
              "      <td>1.060752e+05</td>\n",
              "      <td>1.926581e+05</td>\n",
              "      <td>570.482263</td>\n",
              "      <td>3587.439156</td>\n",
              "      <td>1986.124832</td>\n",
              "      <td>1.255052</td>\n",
              "      <td>3.478132e+06</td>\n",
              "      <td>NaN</td>\n",
              "      <td>NaN</td>\n",
              "    </tr>\n",
              "    <tr>\n",
              "      <th>std</th>\n",
              "      <td>662.487414</td>\n",
              "      <td>NaN</td>\n",
              "      <td>7.930457</td>\n",
              "      <td>NaN</td>\n",
              "      <td>NaN</td>\n",
              "      <td>NaN</td>\n",
              "      <td>4.993242e+05</td>\n",
              "      <td>3.997419e+05</td>\n",
              "      <td>8.834627e+05</td>\n",
              "      <td>6.796095e+05</td>\n",
              "      <td>1071.271990</td>\n",
              "      <td>9007.404473</td>\n",
              "      <td>10009.882020</td>\n",
              "      <td>0.753885</td>\n",
              "      <td>2.286423e+06</td>\n",
              "      <td>NaN</td>\n",
              "      <td>NaN</td>\n",
              "    </tr>\n",
              "    <tr>\n",
              "      <th>min</th>\n",
              "      <td>1.000000</td>\n",
              "      <td>NaN</td>\n",
              "      <td>23.000000</td>\n",
              "      <td>NaN</td>\n",
              "      <td>NaN</td>\n",
              "      <td>NaN</td>\n",
              "      <td>0.000000e+00</td>\n",
              "      <td>0.000000e+00</td>\n",
              "      <td>0.000000e+00</td>\n",
              "      <td>0.000000e+00</td>\n",
              "      <td>0.000000</td>\n",
              "      <td>0.000000</td>\n",
              "      <td>0.000000</td>\n",
              "      <td>0.000000</td>\n",
              "      <td>5.000000e+05</td>\n",
              "      <td>NaN</td>\n",
              "      <td>NaN</td>\n",
              "    </tr>\n",
              "    <tr>\n",
              "      <th>25%</th>\n",
              "      <td>576.500000</td>\n",
              "      <td>NaN</td>\n",
              "      <td>39.000000</td>\n",
              "      <td>NaN</td>\n",
              "      <td>NaN</td>\n",
              "      <td>NaN</td>\n",
              "      <td>0.000000e+00</td>\n",
              "      <td>1.758250e+04</td>\n",
              "      <td>0.000000e+00</td>\n",
              "      <td>0.000000e+00</td>\n",
              "      <td>7.000000</td>\n",
              "      <td>0.000000</td>\n",
              "      <td>0.000000</td>\n",
              "      <td>1.000000</td>\n",
              "      <td>1.700000e+06</td>\n",
              "      <td>NaN</td>\n",
              "      <td>NaN</td>\n",
              "    </tr>\n",
              "    <tr>\n",
              "      <th>50%</th>\n",
              "      <td>1152.000000</td>\n",
              "      <td>NaN</td>\n",
              "      <td>44.000000</td>\n",
              "      <td>NaN</td>\n",
              "      <td>NaN</td>\n",
              "      <td>NaN</td>\n",
              "      <td>0.000000e+00</td>\n",
              "      <td>1.371590e+05</td>\n",
              "      <td>0.000000e+00</td>\n",
              "      <td>5.473000e+03</td>\n",
              "      <td>147.000000</td>\n",
              "      <td>0.000000</td>\n",
              "      <td>59.000000</td>\n",
              "      <td>1.000000</td>\n",
              "      <td>2.700000e+06</td>\n",
              "      <td>NaN</td>\n",
              "      <td>NaN</td>\n",
              "    </tr>\n",
              "    <tr>\n",
              "      <th>75%</th>\n",
              "      <td>1721.500000</td>\n",
              "      <td>NaN</td>\n",
              "      <td>50.000000</td>\n",
              "      <td>NaN</td>\n",
              "      <td>NaN</td>\n",
              "      <td>NaN</td>\n",
              "      <td>0.000000e+00</td>\n",
              "      <td>3.743350e+05</td>\n",
              "      <td>0.000000e+00</td>\n",
              "      <td>1.756885e+05</td>\n",
              "      <td>642.000000</td>\n",
              "      <td>1433.000000</td>\n",
              "      <td>501.500000</td>\n",
              "      <td>2.000000</td>\n",
              "      <td>4.800000e+06</td>\n",
              "      <td>NaN</td>\n",
              "      <td>NaN</td>\n",
              "    </tr>\n",
              "    <tr>\n",
              "      <th>max</th>\n",
              "      <td>2294.000000</td>\n",
              "      <td>NaN</td>\n",
              "      <td>64.000000</td>\n",
              "      <td>NaN</td>\n",
              "      <td>NaN</td>\n",
              "      <td>NaN</td>\n",
              "      <td>9.458161e+06</td>\n",
              "      <td>5.495534e+06</td>\n",
              "      <td>1.839696e+07</td>\n",
              "      <td>2.063461e+07</td>\n",
              "      <td>11187.000000</td>\n",
              "      <td>88837.000000</td>\n",
              "      <td>249652.000000</td>\n",
              "      <td>3.000000</td>\n",
              "      <td>8.000000e+06</td>\n",
              "      <td>NaN</td>\n",
              "      <td>NaN</td>\n",
              "    </tr>\n",
              "  </tbody>\n",
              "</table>\n",
              "</div>"
            ],
            "text/plain": [
              "                 ID GENERO         EDAD  ...         MONTO SEGURO    FUGA\n",
              "count   2227.000000   2227  2227.000000  ...  2.227000e+03   2227    2227\n",
              "unique          NaN      2          NaN  ...           NaN      2       2\n",
              "top             NaN      M          NaN  ...           NaN     NO  NOFUGA\n",
              "freq            NaN   1350          NaN  ...           NaN   1762    1116\n",
              "mean    1149.296812    NaN    43.651100  ...  3.478132e+06    NaN     NaN\n",
              "std      662.487414    NaN     7.930457  ...  2.286423e+06    NaN     NaN\n",
              "min        1.000000    NaN    23.000000  ...  5.000000e+05    NaN     NaN\n",
              "25%      576.500000    NaN    39.000000  ...  1.700000e+06    NaN     NaN\n",
              "50%     1152.000000    NaN    44.000000  ...  2.700000e+06    NaN     NaN\n",
              "75%     1721.500000    NaN    50.000000  ...  4.800000e+06    NaN     NaN\n",
              "max     2294.000000    NaN    64.000000  ...  8.000000e+06    NaN     NaN\n",
              "\n",
              "[11 rows x 17 columns]"
            ]
          },
          "metadata": {},
          "execution_count": 19
        }
      ]
    },
    {
      "cell_type": "code",
      "metadata": {
        "colab": {
          "base_uri": "https://localhost:8080/"
        },
        "id": "kGAAEmiqPZqz",
        "outputId": "e0ca8b60-276e-4fcb-ff4e-8a84e4273046"
      },
      "source": [
        "data_set.isnull().sum()"
      ],
      "execution_count": null,
      "outputs": [
        {
          "output_type": "execute_result",
          "data": {
            "text/plain": [
              "ID              0\n",
              "GENERO          0\n",
              "EDAD            0\n",
              "NIV_EDUC        0\n",
              "E_CIVIL         0\n",
              "CIUDAD          0\n",
              "D_Marzo         0\n",
              "D_Abril         0\n",
              "D_Mayo          0\n",
              "D_Junio         0\n",
              "D_Julio         0\n",
              "D_Agosto        0\n",
              "D_Septiembre    0\n",
              "M_MOROSO        0\n",
              "MONTO           0\n",
              "SEGURO          0\n",
              "FUGA            0\n",
              "dtype: int64"
            ]
          },
          "metadata": {},
          "execution_count": 20
        }
      ]
    },
    {
      "cell_type": "markdown",
      "metadata": {
        "id": "0_CIGBPhrOMB"
      },
      "source": [
        "Con lo anterior, se observa que ahora no se tienen valores nulos. Además, se borra 'ID', dado que se perdió el orden del correlativo al eliminar las filas con valores nulos"
      ]
    },
    {
      "cell_type": "code",
      "metadata": {
        "id": "WtsrhmjI4eVN"
      },
      "source": [
        "del data_set['ID']"
      ],
      "execution_count": null,
      "outputs": []
    },
    {
      "cell_type": "markdown",
      "metadata": {
        "id": "oWwrbC6pRbuq"
      },
      "source": [
        "# Transformación"
      ]
    },
    {
      "cell_type": "markdown",
      "metadata": {
        "id": "fJAAo1mOSFL-"
      },
      "source": [
        "## Transformamos los datos a una nueva escala"
      ]
    },
    {
      "cell_type": "markdown",
      "metadata": {
        "id": "hWTiQEJyRwf_"
      },
      "source": [
        "Primero, asumiendo que no se considerará la variación del valor del dinero en el tiempo, se procede a sumar directamente todos los meses en una variable y ver su comportamiento en un gráfico:"
      ]
    },
    {
      "cell_type": "code",
      "metadata": {
        "id": "Zx79H6rbSaZq",
        "colab": {
          "base_uri": "https://localhost:8080/",
          "height": 54
        },
        "outputId": "5b37cbae-72b8-4142-b3c7-6ff566d7ebff"
      },
      "source": [
        "data_set['Total'] = data_set['D_Marzo'] + data_set['D_Abril'] + data_set['D_Mayo'] + data_set['D_Junio'] + data_set['D_Julio'] + data_set['D_Agosto'] + data_set['D_Septiembre']\n",
        "data_set['Total'].plot(kind='hist',bins=70, grid=True)\n",
        "plt.show()"
      ],
      "execution_count": null,
      "outputs": [
        {
          "output_type": "display_data",
          "data": {
            "image/png": "[encoded data removed]",
            "text/plain": [
              "<Figure size 432x288 with 1 Axes>"
            ]
          },
          "metadata": {
            "needs_background": "light"
          }
        }
      ]
    },
    {
      "cell_type": "markdown",
      "metadata": {
        "id": "SR_dsQMjWe5J"
      },
      "source": [
        "Se observa que la variable esta concentrada en un intervalo, por lo que se aplica su logaritmo:"
      ]
    },
    {
      "cell_type": "code",
      "metadata": {
        "id": "66SqOTHpXJkd"
      },
      "source": [
        "data_set['Ln_Total'] = np.log(data_set['Total']+1)"
      ],
      "execution_count": null,
      "outputs": []
    },
    {
      "cell_type": "markdown",
      "metadata": {
        "id": "_RErf1LMWyUB"
      },
      "source": [
        "Graficando su logaritmo se puede ver que se asemeja a una distribución normal"
      ]
    },
    {
      "cell_type": "code",
      "metadata": {
        "id": "Z4T-0nBuX7Cu",
        "colab": {
          "base_uri": "https://localhost:8080/",
          "height": 54
        },
        "outputId": "63d9f409-2131-44b4-8332-955d37374dcb"
      },
      "source": [
        "data_set['Ln_Total'].plot(kind='hist',bins=40, grid=True )\n",
        "plt.show()"
      ],
      "execution_count": null,
      "outputs": [
        {
          "output_type": "display_data",
          "data": {
            "image/png": "[encoded data removed]",
            "text/plain": [
              "<Figure size 432x288 with 1 Axes>"
            ]
          },
          "metadata": {
            "needs_background": "light"
          }
        }
      ]
    },
    {
      "cell_type": "markdown",
      "metadata": {
        "id": "nt7BjNOyzlbX"
      },
      "source": [
        "Se elimina la variable \"Total\" y las variables deudas de todos los meses para quedarnos solo con el logaritmo total."
      ]
    },
    {
      "cell_type": "code",
      "metadata": {
        "id": "4-4JafAZZgsi"
      },
      "source": [
        "del data_set['Total']\n",
        "del data_set['D_Marzo']\n",
        "del data_set['D_Abril']\n",
        "del data_set['D_Mayo']\n",
        "del data_set['D_Junio']\n",
        "del data_set['D_Julio']\n",
        "del data_set['D_Agosto']\n",
        "del data_set['D_Septiembre']"
      ],
      "execution_count": null,
      "outputs": []
    },
    {
      "cell_type": "markdown",
      "metadata": {
        "id": "L3zcbqluTAK-"
      },
      "source": [
        "## Agregación"
      ]
    },
    {
      "cell_type": "markdown",
      "metadata": {
        "id": "s5DdNwO_EVQu"
      },
      "source": [
        "Para la variable E_CIVIL se agrupa 'VIU' (viudo) con 'SEP' (separado), dado que se podría asumir que ambas categorías tienen un comportamiento similar."
      ]
    },
    {
      "cell_type": "code",
      "metadata": {
        "id": "RrHId4FsTCbH"
      },
      "source": [
        "data_set['E_CIVIL'] = data_set['E_CIVIL'].replace('VIU', 'SEPA')\n",
        "data_set['E_CIVIL'] = data_set['E_CIVIL'].replace('SEP', 'SEPA')"
      ],
      "execution_count": null,
      "outputs": []
    },
    {
      "cell_type": "markdown",
      "metadata": {
        "id": "6xg4J-VHG-9w"
      },
      "source": [
        "Además, se creará una nueva columna llamada \"CAPITAL\", que será de carácter binario:\n",
        "*   1: Corresponde a Santiago\n",
        "*   0: No corresponde a Santiago\n",
        "\n",
        "La columna 'CIUDAD' será eliminada."
      ]
    },
    {
      "cell_type": "code",
      "metadata": {
        "id": "V9oH1e5aFmDF"
      },
      "source": [
        "def capital(string):\n",
        "  if \"SANTIAGO\" in string:\n",
        "    return 1\n",
        "  else:\n",
        "    return 0"
      ],
      "execution_count": null,
      "outputs": []
    },
    {
      "cell_type": "code",
      "metadata": {
        "colab": {
          "base_uri": "https://localhost:8080/",
          "height": 419
        },
        "id": "PsWmmerHGVRY",
        "outputId": "762f4a29-1e15-4e70-db6e-2f688c8c230c"
      },
      "source": [
        "data_set[\"CAPITAL\"] = data_set[\"CIUDAD\"].apply(capital)\n",
        "del data_set[\"CIUDAD\"]\n",
        "data_set"
      ],
      "execution_count": null,
      "outputs": [
        {
          "output_type": "execute_result",
          "data": {
            "text/html": [
              "<div>\n",
              "<style scoped>\n",
              "    .dataframe tbody tr th:only-of-type {\n",
              "        vertical-align: middle;\n",
              "    }\n",
              "\n",
              "    .dataframe tbody tr th {\n",
              "        vertical-align: top;\n",
              "    }\n",
              "\n",
              "    .dataframe thead th {\n",
              "        text-align: right;\n",
              "    }\n",
              "</style>\n",
              "<table border=\"1\" class=\"dataframe\">\n",
              "  <thead>\n",
              "    <tr style=\"text-align: right;\">\n",
              "      <th></th>\n",
              "      <th>GENERO</th>\n",
              "      <th>EDAD</th>\n",
              "      <th>NIV_EDUC</th>\n",
              "      <th>E_CIVIL</th>\n",
              "      <th>M_MOROSO</th>\n",
              "      <th>MONTO</th>\n",
              "      <th>SEGURO</th>\n",
              "      <th>FUGA</th>\n",
              "      <th>Ln_Total</th>\n",
              "      <th>CAPITAL</th>\n",
              "    </tr>\n",
              "  </thead>\n",
              "  <tbody>\n",
              "    <tr>\n",
              "      <th>0</th>\n",
              "      <td>M</td>\n",
              "      <td>39.0</td>\n",
              "      <td>MED</td>\n",
              "      <td>CAS</td>\n",
              "      <td>2.0</td>\n",
              "      <td>2000000.0</td>\n",
              "      <td>NO</td>\n",
              "      <td>NOFUGA</td>\n",
              "      <td>13.089563</td>\n",
              "      <td>0</td>\n",
              "    </tr>\n",
              "    <tr>\n",
              "      <th>1</th>\n",
              "      <td>F</td>\n",
              "      <td>49.0</td>\n",
              "      <td>MED</td>\n",
              "      <td>SEPA</td>\n",
              "      <td>1.0</td>\n",
              "      <td>7500000.0</td>\n",
              "      <td>SI</td>\n",
              "      <td>NOFUGA</td>\n",
              "      <td>3.891820</td>\n",
              "      <td>1</td>\n",
              "    </tr>\n",
              "    <tr>\n",
              "      <th>2</th>\n",
              "      <td>M</td>\n",
              "      <td>39.0</td>\n",
              "      <td>TEC</td>\n",
              "      <td>CAS</td>\n",
              "      <td>1.0</td>\n",
              "      <td>8000000.0</td>\n",
              "      <td>NO</td>\n",
              "      <td>NOFUGA</td>\n",
              "      <td>13.359658</td>\n",
              "      <td>0</td>\n",
              "    </tr>\n",
              "    <tr>\n",
              "      <th>3</th>\n",
              "      <td>F</td>\n",
              "      <td>36.0</td>\n",
              "      <td>UNV</td>\n",
              "      <td>CAS</td>\n",
              "      <td>1.0</td>\n",
              "      <td>2600000.0</td>\n",
              "      <td>NO</td>\n",
              "      <td>NOFUGA</td>\n",
              "      <td>12.227457</td>\n",
              "      <td>1</td>\n",
              "    </tr>\n",
              "    <tr>\n",
              "      <th>4</th>\n",
              "      <td>M</td>\n",
              "      <td>44.0</td>\n",
              "      <td>TEC</td>\n",
              "      <td>CAS</td>\n",
              "      <td>1.0</td>\n",
              "      <td>6400000.0</td>\n",
              "      <td>NO</td>\n",
              "      <td>NOFUGA</td>\n",
              "      <td>11.365898</td>\n",
              "      <td>1</td>\n",
              "    </tr>\n",
              "    <tr>\n",
              "      <th>...</th>\n",
              "      <td>...</td>\n",
              "      <td>...</td>\n",
              "      <td>...</td>\n",
              "      <td>...</td>\n",
              "      <td>...</td>\n",
              "      <td>...</td>\n",
              "      <td>...</td>\n",
              "      <td>...</td>\n",
              "      <td>...</td>\n",
              "      <td>...</td>\n",
              "    </tr>\n",
              "    <tr>\n",
              "      <th>2289</th>\n",
              "      <td>F</td>\n",
              "      <td>43.0</td>\n",
              "      <td>TEC</td>\n",
              "      <td>SOL</td>\n",
              "      <td>3.0</td>\n",
              "      <td>1100000.0</td>\n",
              "      <td>SI</td>\n",
              "      <td>NOFUGA</td>\n",
              "      <td>13.386256</td>\n",
              "      <td>1</td>\n",
              "    </tr>\n",
              "    <tr>\n",
              "      <th>2290</th>\n",
              "      <td>M</td>\n",
              "      <td>54.0</td>\n",
              "      <td>TEC</td>\n",
              "      <td>SOL</td>\n",
              "      <td>1.0</td>\n",
              "      <td>1800000.0</td>\n",
              "      <td>NO</td>\n",
              "      <td>FUGA</td>\n",
              "      <td>14.054986</td>\n",
              "      <td>0</td>\n",
              "    </tr>\n",
              "    <tr>\n",
              "      <th>2291</th>\n",
              "      <td>M</td>\n",
              "      <td>51.0</td>\n",
              "      <td>UNV</td>\n",
              "      <td>SOL</td>\n",
              "      <td>1.0</td>\n",
              "      <td>4200000.0</td>\n",
              "      <td>NO</td>\n",
              "      <td>FUGA</td>\n",
              "      <td>13.502035</td>\n",
              "      <td>0</td>\n",
              "    </tr>\n",
              "    <tr>\n",
              "      <th>2292</th>\n",
              "      <td>M</td>\n",
              "      <td>42.0</td>\n",
              "      <td>UNV</td>\n",
              "      <td>CAS</td>\n",
              "      <td>2.0</td>\n",
              "      <td>4600000.0</td>\n",
              "      <td>NO</td>\n",
              "      <td>FUGA</td>\n",
              "      <td>13.408665</td>\n",
              "      <td>1</td>\n",
              "    </tr>\n",
              "    <tr>\n",
              "      <th>2293</th>\n",
              "      <td>M</td>\n",
              "      <td>49.0</td>\n",
              "      <td>UNV</td>\n",
              "      <td>CAS</td>\n",
              "      <td>1.0</td>\n",
              "      <td>2100000.0</td>\n",
              "      <td>NO</td>\n",
              "      <td>FUGA</td>\n",
              "      <td>13.432116</td>\n",
              "      <td>1</td>\n",
              "    </tr>\n",
              "  </tbody>\n",
              "</table>\n",
              "<p>2227 rows × 10 columns</p>\n",
              "</div>"
            ],
            "text/plain": [
              "     GENERO  EDAD NIV_EDUC E_CIVIL  ...  SEGURO    FUGA   Ln_Total CAPITAL\n",
              "0         M  39.0      MED     CAS  ...      NO  NOFUGA  13.089563       0\n",
              "1         F  49.0      MED    SEPA  ...      SI  NOFUGA   3.891820       1\n",
              "2         M  39.0      TEC     CAS  ...      NO  NOFUGA  13.359658       0\n",
              "3         F  36.0      UNV     CAS  ...      NO  NOFUGA  12.227457       1\n",
              "4         M  44.0      TEC     CAS  ...      NO  NOFUGA  11.365898       1\n",
              "...     ...   ...      ...     ...  ...     ...     ...        ...     ...\n",
              "2289      F  43.0      TEC     SOL  ...      SI  NOFUGA  13.386256       1\n",
              "2290      M  54.0      TEC     SOL  ...      NO    FUGA  14.054986       0\n",
              "2291      M  51.0      UNV     SOL  ...      NO    FUGA  13.502035       0\n",
              "2292      M  42.0      UNV     CAS  ...      NO    FUGA  13.408665       1\n",
              "2293      M  49.0      UNV     CAS  ...      NO    FUGA  13.432116       1\n",
              "\n",
              "[2227 rows x 10 columns]"
            ]
          },
          "metadata": {},
          "execution_count": 28
        }
      ]
    },
    {
      "cell_type": "markdown",
      "metadata": {
        "id": "rDrVP7eVY06S"
      },
      "source": [
        "## Transformación de variables categóricas a binarias"
      ]
    },
    {
      "cell_type": "markdown",
      "metadata": {
        "id": "8hGovx8vNnnn"
      },
      "source": [
        "A continuación, se transformarán todas las variables categóricas de la base de datos en dummies:"
      ]
    },
    {
      "cell_type": "code",
      "metadata": {
        "id": "gQuROPG_GDdD",
        "colab": {
          "base_uri": "https://localhost:8080/"
        },
        "outputId": "149ac5c3-e681-4315-de9f-e9b4aa85d9d9"
      },
      "source": [
        "data_set = pd.get_dummies(data_set, columns = [\"SEGURO\"], drop_first = True)\n",
        "data_set = pd.get_dummies(data_set, columns = [\"NIV_EDUC\"], drop_first = True)\n",
        "data_set = pd.get_dummies(data_set, columns = [\"GENERO\"], drop_first = True)\n",
        "data_set = pd.get_dummies(data_set, columns = [\"E_CIVIL\"], drop_first = True)\n",
        "data_set = pd.get_dummies(data_set, columns = [\"FUGA\"], drop_first = True)\n",
        "data_set.info()"
      ],
      "execution_count": null,
      "outputs": [
        {
          "output_type": "stream",
          "name": "stdout",
          "text": [
            "<class 'pandas.core.frame.DataFrame'>\n",
            "Int64Index: 2227 entries, 0 to 2293\n",
            "Data columns (total 13 columns):\n",
            " #   Column        Non-Null Count  Dtype  \n",
            "---  ------        --------------  -----  \n",
            " 0   EDAD          2227 non-null   float64\n",
            " 1   M_MOROSO      2227 non-null   float64\n",
            " 2   MONTO         2227 non-null   float64\n",
            " 3   Ln_Total      2227 non-null   float64\n",
            " 4   CAPITAL       2227 non-null   int64  \n",
            " 5   SEGURO_SI     2227 non-null   uint8  \n",
            " 6   NIV_EDUC_MED  2227 non-null   uint8  \n",
            " 7   NIV_EDUC_TEC  2227 non-null   uint8  \n",
            " 8   NIV_EDUC_UNV  2227 non-null   uint8  \n",
            " 9   GENERO_M      2227 non-null   uint8  \n",
            " 10  E_CIVIL_SEPA  2227 non-null   uint8  \n",
            " 11  E_CIVIL_SOL   2227 non-null   uint8  \n",
            " 12  FUGA_NOFUGA   2227 non-null   uint8  \n",
            "dtypes: float64(4), int64(1), uint8(8)\n",
            "memory usage: 121.8 KB\n"
          ]
        }
      ]
    },
    {
      "cell_type": "markdown",
      "metadata": {
        "id": "6PeEQjl2dMuE"
      },
      "source": [
        "## Discretización"
      ]
    },
    {
      "cell_type": "markdown",
      "metadata": {
        "id": "2Z-XgqwuT84f"
      },
      "source": [
        "**Discretizando la variable EDAD**"
      ]
    },
    {
      "cell_type": "markdown",
      "metadata": {
        "id": "myNuUgW3Ze0y"
      },
      "source": [
        "Hay que establecer un criterio para dividir las variables, en este caso se hará por cuantiles.\n",
        "\n",
        "Primero se define los puntos de división a utilizar:\n",
        "\n"
      ]
    },
    {
      "cell_type": "code",
      "metadata": {
        "id": "QbhuenIsxEi4"
      },
      "source": [
        "cut_points = data_set['EDAD'].quantile([0, .2, .4, .6, .8, 1])"
      ],
      "execution_count": null,
      "outputs": []
    },
    {
      "cell_type": "markdown",
      "metadata": {
        "id": "3EJ3Ntf9bjNH"
      },
      "source": [
        "Ahora se discretiza la variable EDAD con los puntos definidos:"
      ]
    },
    {
      "cell_type": "code",
      "metadata": {
        "id": "yQWOd63ybNTP",
        "colab": {
          "base_uri": "https://localhost:8080/"
        },
        "outputId": "cff6f463-f8ea-49cc-9c88-5acc9f3a4631"
      },
      "source": [
        "EDAD_binned = pd.cut(data_set['EDAD'], bins =cut_points, include_lowest= True )\n",
        "print(EDAD_binned)"
      ],
      "execution_count": null,
      "outputs": [
        {
          "output_type": "stream",
          "name": "stdout",
          "text": [
            "0         (37.0, 42.0]\n",
            "1         (46.0, 51.0]\n",
            "2         (37.0, 42.0]\n",
            "3       (22.999, 37.0]\n",
            "4         (42.0, 46.0]\n",
            "             ...      \n",
            "2289      (42.0, 46.0]\n",
            "2290      (51.0, 64.0]\n",
            "2291      (46.0, 51.0]\n",
            "2292      (37.0, 42.0]\n",
            "2293      (46.0, 51.0]\n",
            "Name: EDAD, Length: 2227, dtype: category\n",
            "Categories (5, interval[float64]): [(22.999, 37.0] < (37.0, 42.0] < (42.0, 46.0] < (46.0, 51.0] <\n",
            "                                    (51.0, 64.0]]\n"
          ]
        }
      ]
    },
    {
      "cell_type": "markdown",
      "metadata": {
        "id": "TVWXueLkOKUh"
      },
      "source": [
        "Entonces EDAD_binned será la variable EDAD discretizada."
      ]
    },
    {
      "cell_type": "markdown",
      "metadata": {
        "id": "lTffvV7wdYeh"
      },
      "source": [
        "# Selección de atributos"
      ]
    },
    {
      "cell_type": "markdown",
      "metadata": {
        "id": "dE1QchbGdeYV"
      },
      "source": [
        "A modo de revisión general, se procede a calcular la desviación estándar de las variables:"
      ]
    },
    {
      "cell_type": "code",
      "metadata": {
        "id": "Wz4_uLTDAp8J",
        "colab": {
          "base_uri": "https://localhost:8080/"
        },
        "outputId": "afbaf762-85b5-429c-c9d7-4f247085c5aa"
      },
      "source": [
        "data_set.std()"
      ],
      "execution_count": null,
      "outputs": [
        {
          "output_type": "execute_result",
          "data": {
            "text/plain": [
              "EDAD            7.930457e+00\n",
              "M_MOROSO        7.538850e-01\n",
              "MONTO           2.286423e+06\n",
              "Ln_Total        2.393507e+00\n",
              "CAPITAL         4.890889e-01\n",
              "SEGURO_SI       4.065432e-01\n",
              "NIV_EDUC_MED    4.449185e-01\n",
              "NIV_EDUC_TEC    4.621584e-01\n",
              "NIV_EDUC_UNV    4.928168e-01\n",
              "GENERO_M        4.887019e-01\n",
              "E_CIVIL_SEPA    2.910564e-01\n",
              "E_CIVIL_SOL     4.485345e-01\n",
              "FUGA_NOFUGA     5.001110e-01\n",
              "dtype: float64"
            ]
          },
          "metadata": {},
          "execution_count": 32
        }
      ]
    },
    {
      "cell_type": "markdown",
      "metadata": {
        "id": "3y-dNhz9dy_k"
      },
      "source": [
        "Como se puede observar, no existe ninguna variable que posea una desviación estándar de cero, por lo que a priori no se puede eliminar ninguna."
      ]
    },
    {
      "cell_type": "markdown",
      "metadata": {
        "id": "3O1Pk2xakEx3"
      },
      "source": [
        "**Cálculo la matriz de correlación entre todas las variables de la base de datos:**"
      ]
    },
    {
      "cell_type": "code",
      "metadata": {
        "id": "-BjxHTh0j5X1",
        "colab": {
          "base_uri": "https://localhost:8080/",
          "height": 773
        },
        "outputId": "3c72e307-54f8-43d0-b394-ea9c134c867b"
      },
      "source": [
        "corrmat = data_set.corr().abs()\n",
        "f, ax = plt.subplots(figsize=(10, 7))\n",
        "sn.heatmap(corrmat, square=True);\n",
        "print(corrmat)"
      ],
      "execution_count": null,
      "outputs": [
        {
          "output_type": "stream",
          "name": "stdout",
          "text": [
            "                  EDAD  M_MOROSO  ...  E_CIVIL_SOL  FUGA_NOFUGA\n",
            "EDAD          1.000000  0.089881  ...     0.056243     0.269991\n",
            "M_MOROSO      0.089881  1.000000  ...     0.133368     0.322472\n",
            "MONTO         0.154327  0.056641  ...     0.029446     0.107197\n",
            "Ln_Total      0.055772  0.169108  ...     0.045737     0.135111\n",
            "CAPITAL       0.024858  0.067864  ...     0.121503     0.186438\n",
            "SEGURO_SI     0.103840  0.011138  ...     0.225013     0.092752\n",
            "NIV_EDUC_MED  0.134588  0.025858  ...     0.087129     0.090492\n",
            "NIV_EDUC_TEC  0.181889  0.150181  ...     0.240880     0.408609\n",
            "NIV_EDUC_UNV  0.048781  0.167266  ...     0.145632     0.468510\n",
            "GENERO_M      0.043933  0.233724  ...     0.232505     0.480686\n",
            "E_CIVIL_SEPA  0.054189  0.041051  ...     0.199589     0.094953\n",
            "E_CIVIL_SOL   0.056243  0.133368  ...     1.000000     0.225909\n",
            "FUGA_NOFUGA   0.269991  0.322472  ...     0.225909     1.000000\n",
            "\n",
            "[13 rows x 13 columns]\n"
          ]
        },
        {
          "output_type": "display_data",
          "data": {
            "image/png": "[encoded data removed]",
            "text/plain": [
              "<Figure size 720x504 with 2 Axes>"
            ]
          },
          "metadata": {
            "needs_background": "light"
          }
        }
      ]
    },
    {
      "cell_type": "markdown",
      "metadata": {
        "id": "d3JPETbJGle5"
      },
      "source": [
        "A pesar de que 'NIV_EDUC_UNV' y 'NIV_EDUC_TEC' dan indicios de una eventual redundancia al presentar una correlación cercana a 0.6, no existe una real certeza de que deba eliminarse alguna de las dos, al igual que en otros casos donde se observa una correlación mayor, por lo que se procederá a aplicar test chi-cuadrado, eliminando las que presenten menor relevancia."
      ]
    },
    {
      "cell_type": "markdown",
      "metadata": {
        "id": "EQwD13jVtSvi"
      },
      "source": [
        "**Selección de variables mas relevantes con test chi cuadrado**"
      ]
    },
    {
      "cell_type": "markdown",
      "metadata": {
        "id": "1SJmIh_1nQbU"
      },
      "source": [
        "Se seleccionarán las 9 variables que tengan el estadístico chi cuadrado mayor, siendo las restantes eliminadas al ser consideradas menos relevantes."
      ]
    },
    {
      "cell_type": "markdown",
      "metadata": {
        "id": "-kiFEo25uFSE"
      },
      "source": [
        "Primero se define como X las variables independientes y como Y la variable dependiente:"
      ]
    },
    {
      "cell_type": "code",
      "metadata": {
        "id": "d6m6k7Z2uKU3",
        "colab": {
          "base_uri": "https://localhost:8080/"
        },
        "outputId": "7f0b052d-b55c-4ef1-8417-cbe6267051c1"
      },
      "source": [
        "X = data_set.loc[:, data_set.columns != 'FUGA_NOFUGA']\n",
        "y = data_set.loc[:, data_set.columns == 'FUGA_NOFUGA']\n",
        "X.shape"
      ],
      "execution_count": null,
      "outputs": [
        {
          "output_type": "execute_result",
          "data": {
            "text/plain": [
              "(2227, 12)"
            ]
          },
          "metadata": {},
          "execution_count": 34
        }
      ]
    },
    {
      "cell_type": "markdown",
      "metadata": {
        "id": "Yvx3tNjpuTDs"
      },
      "source": [
        "Ahora se aplica la función SelectKBest con el test chi cuadrado para determinar las variables mas relevantes:"
      ]
    },
    {
      "cell_type": "code",
      "metadata": {
        "id": "LhXm7gWFnaa3",
        "colab": {
          "base_uri": "https://localhost:8080/"
        },
        "outputId": "f78ec147-7458-4f85-bda5-f27885b43af1"
      },
      "source": [
        "X_new = SelectKBest(chi2, k=9).fit(X, y)\n",
        "x_final = X_new.fit_transform(X,y)\n",
        "x_final.shape\n",
        "print(x_final)"
      ],
      "execution_count": null,
      "outputs": [
        {
          "output_type": "stream",
          "name": "stdout",
          "text": [
            "[[3.9e+01 2.0e+00 2.0e+06 ... 0.0e+00 1.0e+00 0.0e+00]\n",
            " [4.9e+01 1.0e+00 7.5e+06 ... 0.0e+00 0.0e+00 0.0e+00]\n",
            " [3.9e+01 1.0e+00 8.0e+06 ... 0.0e+00 1.0e+00 0.0e+00]\n",
            " ...\n",
            " [5.1e+01 1.0e+00 4.2e+06 ... 1.0e+00 1.0e+00 1.0e+00]\n",
            " [4.2e+01 2.0e+00 4.6e+06 ... 1.0e+00 1.0e+00 0.0e+00]\n",
            " [4.9e+01 1.0e+00 2.1e+06 ... 1.0e+00 1.0e+00 0.0e+00]]\n"
          ]
        }
      ]
    },
    {
      "cell_type": "markdown",
      "metadata": {
        "id": "A6rrQiYpvmka"
      },
      "source": [
        "Por último, se obtienen los nombres de las columnas seleccionadas:"
      ]
    },
    {
      "cell_type": "code",
      "metadata": {
        "id": "zAdIGWqtu7CI",
        "colab": {
          "base_uri": "https://localhost:8080/"
        },
        "outputId": "b3cd6c54-1d3d-4052-fd3e-bdd442da81b3"
      },
      "source": [
        "kbest = np.asarray(X.columns)[X_new.get_support()]\n",
        "print(kbest)"
      ],
      "execution_count": null,
      "outputs": [
        {
          "output_type": "stream",
          "name": "stdout",
          "text": [
            "['EDAD' 'M_MOROSO' 'MONTO' 'Ln_Total' 'CAPITAL' 'NIV_EDUC_TEC'\n",
            " 'NIV_EDUC_UNV' 'GENERO_M' 'E_CIVIL_SOL']\n"
          ]
        }
      ]
    },
    {
      "cell_type": "markdown",
      "metadata": {
        "id": "srL-8NF3ePtU"
      },
      "source": [
        "Dadas las variables que se consideraron como las mas relevantes, se procede a eliminar todas las demás:"
      ]
    },
    {
      "cell_type": "code",
      "metadata": {
        "id": "z40pjBvheMJv"
      },
      "source": [
        "del data_set[\"SEGURO_SI\"]\n",
        "del data_set[\"NIV_EDUC_MED\"]\n",
        "del data_set['E_CIVIL_SEPA']"
      ],
      "execution_count": null,
      "outputs": []
    },
    {
      "cell_type": "markdown",
      "metadata": {
        "id": "zk8RHxe0fCLl"
      },
      "source": [
        "Finalmente, se normalizan las variables que fueron consideradas relevantes para el proyecto, de modo de escalar los datos."
      ]
    },
    {
      "cell_type": "markdown",
      "metadata": {
        "id": "tvaPZR75Tie6"
      },
      "source": [
        "**Normalización**"
      ]
    },
    {
      "cell_type": "code",
      "metadata": {
        "id": "CfGqBy4_DxtA",
        "colab": {
          "base_uri": "https://localhost:8080/"
        },
        "outputId": "bb2a7614-56a7-4ef0-e3bb-0896592b0e8f"
      },
      "source": [
        "FUGA = data_set['FUGA_NOFUGA']\n",
        "scaler = MinMaxScaler()\n",
        "scaler_data = scaler.fit(data_set)\n",
        "data_set_scaled = pd.DataFrame(scaler_data.transform(data_set), index=data_set.index, columns=data_set.columns)\n",
        "data_set_scaled['FUGA_NOFUGA'] = FUGA\n",
        "print(data_set_scaled)"
      ],
      "execution_count": null,
      "outputs": [
        {
          "output_type": "stream",
          "name": "stdout",
          "text": [
            "          EDAD  M_MOROSO     MONTO  ...  GENERO_M  E_CIVIL_SOL  FUGA_NOFUGA\n",
            "0     0.390244  0.666667  0.200000  ...       1.0          0.0            1\n",
            "1     0.634146  0.333333  0.933333  ...       0.0          0.0            1\n",
            "2     0.390244  0.333333  1.000000  ...       1.0          0.0            1\n",
            "3     0.317073  0.333333  0.280000  ...       0.0          0.0            1\n",
            "4     0.512195  0.333333  0.786667  ...       1.0          0.0            1\n",
            "...        ...       ...       ...  ...       ...          ...          ...\n",
            "2289  0.487805  1.000000  0.080000  ...       0.0          1.0            1\n",
            "2290  0.756098  0.333333  0.173333  ...       1.0          1.0            0\n",
            "2291  0.682927  0.333333  0.493333  ...       1.0          1.0            0\n",
            "2292  0.463415  0.666667  0.546667  ...       1.0          0.0            0\n",
            "2293  0.634146  0.333333  0.213333  ...       1.0          0.0            0\n",
            "\n",
            "[2227 rows x 10 columns]\n"
          ]
        }
      ]
    },
    {
      "cell_type": "markdown",
      "metadata": {
        "id": "MCfC2MTOBQk1"
      },
      "source": [
        "# Discusiones\n"
      ]
    },
    {
      "cell_type": "markdown",
      "metadata": {
        "id": "HngWKlo5BXXh"
      },
      "source": [
        "El orden de relevancia de las variables según test chi-cuadrado es el siguiente:\n",
        "\n",
        "1.   MONTO\n",
        "2.   NIV_EDUC_UNV\n",
        "3.   NIV_EDUC_TEC\n",
        "4.   EDAD\n",
        "5.   GENERO_M\n",
        "6.   M_MOROSO\n",
        "7.   E_CIVIL_SOL\n",
        "8.   CAPITAL\n",
        "9.   LN_TOTAL\n",
        "\n",
        "Como se puede apreciar, la variable correspondiente al total de la deuda se encuentra en novena posición de relevancia. Dado que la problemática corresponde al ámbito financiero, se consideró que debía mantenerse como variable de interés, por lo que todas aquellas que quedasen en una posición inferior en relevancia podrían ser eliminadas.\n",
        "\n",
        "En base a lo anterior, se puede concluir que si bien los métodos estadísticos ayuda a tomar decisiones referentes a cuáles variables son importantes en un modelo y cuáles no, de todas formas debe haber un análisis empírico, de manera de evitar eliminar variables que eventualmente pudiesen ser importantes considerar en un futuro. Lo anterior permitirá al modelo comportarse de mejor forma frente a un suceso de la vida real.\n",
        "\n",
        "\n",
        "\n",
        "\n",
        "\n",
        "\n",
        "\n"
      ]
    },
    {
      "cell_type": "code",
      "metadata": {
        "id": "5XSdVksDHm3j"
      },
      "source": [
        "X_train, X_test, y_train, y_test = train_test_split(X, y, test_size=0.3, random_state=0)"
      ],
      "execution_count": null,
      "outputs": []
    },
    {
      "cell_type": "code",
      "metadata": {
        "colab": {
          "base_uri": "https://localhost:8080/"
        },
        "id": "0pr5GYEGIfWv",
        "outputId": "66e794aa-4cc4-489f-cccb-9755157c401b"
      },
      "source": [
        "result = srm.Logit(y_train, X_train).fit()\n",
        "print(result.summary())"
      ],
      "execution_count": null,
      "outputs": [
        {
          "output_type": "stream",
          "name": "stdout",
          "text": [
            "Optimization terminated successfully.\n",
            "         Current function value: inf\n",
            "         Iterations 7\n",
            "                           Logit Regression Results                           \n",
            "==============================================================================\n",
            "Dep. Variable:            FUGA_NOFUGA   No. Observations:                 1558\n",
            "Model:                          Logit   Df Residuals:                     1546\n",
            "Method:                           MLE   Df Model:                           11\n",
            "Date:                Wed, 01 Dec 2021   Pseudo R-squ.:                     inf\n",
            "Time:                        22:46:20   Log-Likelihood:                   -inf\n",
            "converged:                       True   LL-Null:                        0.0000\n",
            "Covariance Type:            nonrobust   LLR p-value:                     1.000\n",
            "================================================================================\n",
            "                   coef    std err          z      P>|z|      [0.025      0.975]\n",
            "--------------------------------------------------------------------------------\n",
            "EDAD            -0.0855      0.009     -9.119      0.000      -0.104      -0.067\n",
            "M_MOROSO        -0.6252      0.102     -6.118      0.000      -0.826      -0.425\n",
            "MONTO         1.899e-07   3.14e-08      6.058      0.000    1.28e-07    2.51e-07\n",
            "Ln_Total        -0.0197      0.030     -0.647      0.517      -0.079       0.040\n",
            "CAPITAL         -0.5470      0.143     -3.835      0.000      -0.826      -0.267\n",
            "SEGURO_SI        0.0158      0.184      0.086      0.932      -0.345       0.376\n",
            "NIV_EDUC_MED     5.8593      0.586      9.997      0.000       4.711       7.008\n",
            "NIV_EDUC_TEC     6.6844      0.587     11.387      0.000       5.534       7.835\n",
            "NIV_EDUC_UNV     4.4829      0.573      7.828      0.000       3.361       5.605\n",
            "GENERO_M        -1.8778      0.156    -12.031      0.000      -2.184      -1.572\n",
            "E_CIVIL_SEPA     0.1535      0.275      0.558      0.577      -0.386       0.693\n",
            "E_CIVIL_SOL      0.4382      0.170      2.574      0.010       0.105       0.772\n",
            "================================================================================\n"
          ]
        },
        {
          "output_type": "stream",
          "name": "stderr",
          "text": [
            "/usr/local/lib/python3.7/dist-packages/statsmodels/discrete/discrete_model.py:1736: RuntimeWarning: overflow encountered in exp\n",
            "  return 1/(1+np.exp(-X))\n",
            "/usr/local/lib/python3.7/dist-packages/statsmodels/discrete/discrete_model.py:1789: RuntimeWarning: divide by zero encountered in log\n",
            "  return np.sum(np.log(self.cdf(q*np.dot(X,params))))\n",
            "/usr/local/lib/python3.7/dist-packages/statsmodels/base/model.py:492: HessianInversionWarning: Inverting hessian failed, no bse or cov_params available\n",
            "  'available', HessianInversionWarning)\n",
            "/usr/local/lib/python3.7/dist-packages/statsmodels/base/model.py:492: HessianInversionWarning: Inverting hessian failed, no bse or cov_params available\n",
            "  'available', HessianInversionWarning)\n"
          ]
        }
      ]
    }
  ]
}